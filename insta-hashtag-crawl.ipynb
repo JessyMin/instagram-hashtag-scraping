{
 "cells": [
  {
   "cell_type": "markdown",
   "metadata": {},
   "source": [
    "# BeautifulSoup으로 가져오기"
   ]
  },
  {
   "cell_type": "code",
   "execution_count": 2,
   "metadata": {},
   "outputs": [],
   "source": [
    "import requests\n",
    "from bs4 import BeautifulSoup\n",
    "import pandas as pd"
   ]
  },
  {
   "cell_type": "code",
   "execution_count": 3,
   "metadata": {},
   "outputs": [],
   "source": [
    "# 대상 태그를 넣으면 관련 태그를 스크랩하여 데이터프레임으로 변환\n",
    "def scrap_hashtag(keyword):\n",
    "\n",
    "    req = requests.get('http://picdeer.com/tag/' + keyword)\n",
    "    \n",
    "    # HTML 소스 가져오기\n",
    "    html = req.text\n",
    "    \n",
    "    # HTML 소스를 python 객체로 변환\n",
    "    soup = BeautifulSoup(html, 'html.parser')\n",
    "    \n",
    "    # 해시태그를 포함, 링크가 걸린 텍스트 모두 가져오기\n",
    "    raw_data = soup.select('a')\n",
    "    \n",
    "    # 데이터프레임으로 변환\n",
    "    data = []\n",
    "\n",
    "    for i in raw_data:\n",
    "        data.append(i.text)\n",
    "        \n",
    "    df = pd.DataFrame(data)\n",
    "    \n",
    "    df.columns = ['col']\n",
    "    \n",
    "    # 해시태그만 추출\n",
    "    df = df[df.col.str.contains(\"\\#\")]\n",
    "    \n",
    "    # 빈도순으로 정렬\n",
    "    rank = df['col'].value_counts().head(100)\n",
    "    \n",
    "    return(rank)\n",
    "    \n"
   ]
  },
  {
   "cell_type": "code",
   "execution_count": 123,
   "metadata": {},
   "outputs": [
    {
     "data": {
      "text/plain": [
       "#outdoorumbrella           53\n",
       "#outdoorfurniture          27\n",
       "#patio                     27\n",
       "#outdoordecor              26\n",
       "#patiodecor                26\n",
       "#patioumbrella             26\n",
       "#exteriordesign            24\n",
       "#homeandgarden             23\n",
       "#homedecor                 23\n",
       "#patiolife                 23\n",
       "#commercialdesign          23\n",
       "#commercialfurniture       23\n",
       "#midcenturymodern          21\n",
       "#colorful                  21\n",
       "#californiaumbrella        20\n",
       "#vintagestyle              19\n",
       "#furniture                 19\n",
       "#photoshoot                18\n",
       "#photography               18\n",
       "#loveyourshade             18\n",
       "#patiodesign               17\n",
       "#homedesign                16\n",
       "#home                      16\n",
       "#palmspringshomes          11\n",
       "#palmsprings               11\n",
       "#patiofurniture             9\n",
       "#outdoordesign              6\n",
       "#poolside                   5\n",
       "#semsiye                    5\n",
       "#summer                     4\n",
       "                           ..\n",
       "#beach                      2\n",
       "#outside                    2\n",
       "#sticksandstonesoutdoor     2\n",
       "#outdoorliving              2\n",
       "#anaokuludekorasyon         2\n",
       "#backyard                   2\n",
       "#cantilever                 2\n",
       "#thehomedepot               2\n",
       "#marketumbrellas            2\n",
       "#tailormadeparasol          2\n",
       "#beachfront                 2\n",
       "#americanclub               2\n",
       "#outdoor                    2\n",
       "#adelaide                   2\n",
       "#poolumbrella               2\n",
       "#southaustralia             2\n",
       "#americanclubsingapore      2\n",
       "#solmazkumaş                2\n",
       "#beachplease                2\n",
       "#otelsemsiye                2\n",
       "#dışmekanaksesuarları       2\n",
       "#dışmekanşemsiyeleri        2\n",
       "#patioideas                 2\n",
       "#outdoordiningset           2\n",
       "#fabricshowcase             2\n",
       "#sugeçirmezkumaş            2\n",
       "#butikotel                  2\n",
       "#sunumbrella                2\n",
       "#beachvibes                 2\n",
       "#shade7umbrellas            2\n",
       "Name: col, Length: 100, dtype: int64"
      ]
     },
     "execution_count": 123,
     "metadata": {},
     "output_type": "execute_result"
    }
   ],
   "source": [
    "scrap_hashtag('outdoorumbrella')\n"
   ]
  },
  {
   "cell_type": "markdown",
   "metadata": {},
   "source": [
    "# selenium으로 스크롤다운"
   ]
  },
  {
   "cell_type": "code",
   "execution_count": 7,
   "metadata": {},
   "outputs": [],
   "source": [
    "import time\n",
    "from selenium import webdriver\n",
    "from bs4 import BeautifulSoup\n",
    "\n",
    "\n",
    "# 페이지 스크롤링을 위한 모듈\n",
    "#from selenium.webdriver.common.keys import Keys\n",
    "\n",
    "# 다운로드 받은 드라이버 주소\n",
    "DRIVER_DIR = 'driver/chromedriver'\n",
    "\n",
    "# 크롬 브라우저를 실행시켜 조작하기 위한 객체 생성\n",
    "driver = webdriver.Chrome(DRIVER_DIR)\n",
    "\n",
    "# 암묵적으로 웹 자원을 (최대) 3초 기다리기\n",
    "driver.implicitly_wait(3) "
   ]
  },
  {
   "cell_type": "code",
   "execution_count": 8,
   "metadata": {},
   "outputs": [],
   "source": [
    "# 목표로 하는 url의 내용을 가져오기\n",
    "url = \"http://picdeer.com/tag/%ED%99%88%EA%B9%8C%ED%8E%98\"\n",
    "driver.get(url)"
   ]
  },
  {
   "cell_type": "markdown",
   "metadata": {},
   "source": [
    "## 끝까지 스크롤다운 하기"
   ]
  },
  {
   "cell_type": "markdown",
   "metadata": {},
   "source": [
    "### 포스트 개수 가져오기"
   ]
  },
  {
   "cell_type": "code",
   "execution_count": 36,
   "metadata": {},
   "outputs": [
    {
     "name": "stdout",
     "output_type": "stream",
     "text": [
      "64.234 Posts\n"
     ]
    }
   ],
   "source": [
    "# Class로 가져오기\n",
    "post = driver.find_elements_by_css_selector('.btn.btn-sm.btn-orange')\n",
    "print(post[0].text)"
   ]
  },
  {
   "cell_type": "code",
   "execution_count": 41,
   "metadata": {},
   "outputs": [
    {
     "data": {
      "text/plain": [
       "64234"
      ]
     },
     "execution_count": 41,
     "metadata": {},
     "output_type": "execute_result"
    }
   ],
   "source": [
    "post_count = post[0].text\n",
    "post_count = post_count.split()[0].replace('.', '')\n",
    "post_count = int(post_count)\n",
    "post_count"
   ]
  },
  {
   "cell_type": "code",
   "execution_count": 40,
   "metadata": {},
   "outputs": [
    {
     "ename": "AttributeError",
     "evalue": "'str' object has no attribute 'dtype'",
     "output_type": "error",
     "traceback": [
      "\u001b[0;31m---------------------------------------------------------------------------\u001b[0m",
      "\u001b[0;31mAttributeError\u001b[0m                            Traceback (most recent call last)",
      "\u001b[0;32m<ipython-input-40-cf798963f381>\u001b[0m in \u001b[0;36m<module>\u001b[0;34m\u001b[0m\n\u001b[0;32m----> 1\u001b[0;31m \u001b[0mpost_count\u001b[0m\u001b[0;34m.\u001b[0m\u001b[0mdtype\u001b[0m\u001b[0;34m(\u001b[0m\u001b[0;34m)\u001b[0m\u001b[0;34m\u001b[0m\u001b[0;34m\u001b[0m\u001b[0m\n\u001b[0m",
      "\u001b[0;31mAttributeError\u001b[0m: 'str' object has no attribute 'dtype'"
     ]
    }
   ],
   "source": []
  },
  {
   "cell_type": "code",
   "execution_count": 43,
   "metadata": {},
   "outputs": [
    {
     "data": {
      "text/plain": [
       "1070.5666666666666"
      ]
     },
     "execution_count": 43,
     "metadata": {},
     "output_type": "execute_result"
    }
   ],
   "source": [
    "scroll_num = post_count/60\n",
    "scroll_num"
   ]
  },
  {
   "cell_type": "code",
   "execution_count": null,
   "metadata": {},
   "outputs": [],
   "source": [
    "# xpath로 가져오기\n",
    "# 참고글 : https://wkdtjsgur100.github.io/selenium-xpath/\n",
    "\n",
    "# xpath = \"//div[@class='page-title text-center']/p/span\"\n",
    "# like_list = driver.find_element_by_xpath(xpath)"
   ]
  },
  {
   "cell_type": "code",
   "execution_count": null,
   "metadata": {},
   "outputs": [],
   "source": [
    "# 끝까지 스크롤다운\n",
    "for i in range(1, 10):\n",
    "    while i <= 10:\n",
    "        driver.execute_script(\"window.scrollTo(0, document.body.scrollHeight);\")\n",
    "    break"
   ]
  },
  {
   "cell_type": "code",
   "execution_count": null,
   "metadata": {},
   "outputs": [],
   "source": []
  },
  {
   "cell_type": "markdown",
   "metadata": {},
   "source": [
    "### 웹사이트 소스 가져오기"
   ]
  },
  {
   "cell_type": "code",
   "execution_count": 10,
   "metadata": {},
   "outputs": [],
   "source": [
    "# 참고 글 : https://l0o02.github.io/2018/06/13/selenium-with-beautifulsoup-1/\n",
    "\n",
    "# Web Driver가 현재 실행중인 웹사이트의 소스를 가져오기\n",
    "req = driver.page_source\n",
    "\n",
    "# HTML 소스를 python 객체로 변환\n",
    "soup = BeautifulSoup(req, 'html.parser')"
   ]
  },
  {
   "cell_type": "code",
   "execution_count": 11,
   "metadata": {},
   "outputs": [],
   "source": [
    "# 해시태그를 포함, 링크가 걸린 텍스트 모두 가져오기\n",
    "raw_data = soup.select('a')\n",
    "    \n",
    "# 데이터프레임으로 변환\n",
    "data = []\n",
    "\n",
    "for i in raw_data:\n",
    "    data.append(i.text)\n",
    "        \n",
    "\n",
    "    \n"
   ]
  },
  {
   "cell_type": "code",
   "execution_count": 31,
   "metadata": {},
   "outputs": [],
   "source": [
    "df = pd.DataFrame(data, columns=['col'])\n",
    "    \n",
    "    \n",
    "# 해시태그만 추출\n",
    "df = df[df['col'].str.contains(\"\\#\")]\n",
    "    \n",
    "# 빈도순으로 정렬\n",
    "rank = df['col'].value_counts().head(50)"
   ]
  },
  {
   "cell_type": "code",
   "execution_count": 32,
   "metadata": {},
   "outputs": [
    {
     "data": {
      "text/plain": [
       "#홈까페         15\n",
       "#homecafe     3\n",
       "#온더테이블        3\n",
       "#빈티지가구        2\n",
       "#유럽앤틱         2\n",
       "Name: col, dtype: int64"
      ]
     },
     "execution_count": 32,
     "metadata": {},
     "output_type": "execute_result"
    }
   ],
   "source": [
    "rank.head()"
   ]
  },
  {
   "cell_type": "markdown",
   "metadata": {},
   "source": [
    "### Selenium으로 유저 가져오기"
   ]
  },
  {
   "cell_type": "code",
   "execution_count": 23,
   "metadata": {},
   "outputs": [],
   "source": [
    "user_element = driver.find_elements_by_css_selector('.grid-media-owner')"
   ]
  },
  {
   "cell_type": "code",
   "execution_count": 24,
   "metadata": {},
   "outputs": [
    {
     "name": "stdout",
     "output_type": "stream",
     "text": [
      "@binnnlove\n"
     ]
    }
   ],
   "source": [
    "print(user_element[1].text)"
   ]
  },
  {
   "cell_type": "code",
   "execution_count": 26,
   "metadata": {},
   "outputs": [],
   "source": [
    "import pandas as pd\n",
    "\n",
    "user_list = []\n",
    "\n",
    "for i in user_element:\n",
    "    user_list.append(i.text)\n",
    "    \n",
    "user = pd.DataFrame(user_list, columns=['user'])"
   ]
  },
  {
   "cell_type": "code",
   "execution_count": 27,
   "metadata": {},
   "outputs": [
    {
     "data": {
      "text/html": [
       "<div>\n",
       "<style scoped>\n",
       "    .dataframe tbody tr th:only-of-type {\n",
       "        vertical-align: middle;\n",
       "    }\n",
       "\n",
       "    .dataframe tbody tr th {\n",
       "        vertical-align: top;\n",
       "    }\n",
       "\n",
       "    .dataframe thead th {\n",
       "        text-align: right;\n",
       "    }\n",
       "</style>\n",
       "<table border=\"1\" class=\"dataframe\">\n",
       "  <thead>\n",
       "    <tr style=\"text-align: right;\">\n",
       "      <th></th>\n",
       "      <th>user</th>\n",
       "    </tr>\n",
       "  </thead>\n",
       "  <tbody>\n",
       "    <tr>\n",
       "      <th>0</th>\n",
       "      <td>@oo.store_</td>\n",
       "    </tr>\n",
       "    <tr>\n",
       "      <th>1</th>\n",
       "      <td>@binnnlove</td>\n",
       "    </tr>\n",
       "    <tr>\n",
       "      <th>2</th>\n",
       "      <td>@pepper.rainbowls</td>\n",
       "    </tr>\n",
       "    <tr>\n",
       "      <th>3</th>\n",
       "      <td>@hamsuin1103</td>\n",
       "    </tr>\n",
       "    <tr>\n",
       "      <th>4</th>\n",
       "      <td>@huyn2_room</td>\n",
       "    </tr>\n",
       "  </tbody>\n",
       "</table>\n",
       "</div>"
      ],
      "text/plain": [
       "                user\n",
       "0         @oo.store_\n",
       "1         @binnnlove\n",
       "2  @pepper.rainbowls\n",
       "3       @hamsuin1103\n",
       "4        @huyn2_room"
      ]
     },
     "execution_count": 27,
     "metadata": {},
     "output_type": "execute_result"
    }
   ],
   "source": [
    "user.head()"
   ]
  },
  {
   "cell_type": "code",
   "execution_count": 28,
   "metadata": {},
   "outputs": [
    {
     "data": {
      "text/html": [
       "<div>\n",
       "<style scoped>\n",
       "    .dataframe tbody tr th:only-of-type {\n",
       "        vertical-align: middle;\n",
       "    }\n",
       "\n",
       "    .dataframe tbody tr th {\n",
       "        vertical-align: top;\n",
       "    }\n",
       "\n",
       "    .dataframe thead th {\n",
       "        text-align: right;\n",
       "    }\n",
       "</style>\n",
       "<table border=\"1\" class=\"dataframe\">\n",
       "  <thead>\n",
       "    <tr style=\"text-align: right;\">\n",
       "      <th></th>\n",
       "      <th>user</th>\n",
       "    </tr>\n",
       "  </thead>\n",
       "  <tbody>\n",
       "    <tr>\n",
       "      <th>0</th>\n",
       "      <td>oo.store_</td>\n",
       "    </tr>\n",
       "    <tr>\n",
       "      <th>1</th>\n",
       "      <td>binnnlove</td>\n",
       "    </tr>\n",
       "    <tr>\n",
       "      <th>2</th>\n",
       "      <td>pepper.rainbowls</td>\n",
       "    </tr>\n",
       "    <tr>\n",
       "      <th>3</th>\n",
       "      <td>hamsuin1103</td>\n",
       "    </tr>\n",
       "    <tr>\n",
       "      <th>4</th>\n",
       "      <td>huyn2_room</td>\n",
       "    </tr>\n",
       "  </tbody>\n",
       "</table>\n",
       "</div>"
      ],
      "text/plain": [
       "               user\n",
       "0         oo.store_\n",
       "1         binnnlove\n",
       "2  pepper.rainbowls\n",
       "3       hamsuin1103\n",
       "4        huyn2_room"
      ]
     },
     "execution_count": 28,
     "metadata": {},
     "output_type": "execute_result"
    }
   ],
   "source": [
    "user['user'] = user['user'].str.replace('@', '')\n",
    "user.head()"
   ]
  },
  {
   "cell_type": "code",
   "execution_count": 29,
   "metadata": {},
   "outputs": [
    {
     "data": {
      "text/plain": [
       "barbie.cup          9\n",
       "piuda.kkk           3\n",
       "oo.store_           3\n",
       "bobobo_ribbon       3\n",
       "pepper.rainbowls    3\n",
       "Name: user, dtype: int64"
      ]
     },
     "execution_count": 29,
     "metadata": {},
     "output_type": "execute_result"
    }
   ],
   "source": [
    "user['user'].value_counts().head()"
   ]
  },
  {
   "cell_type": "markdown",
   "metadata": {},
   "source": [
    "### Class로 가져오기"
   ]
  },
  {
   "cell_type": "code",
   "execution_count": 33,
   "metadata": {},
   "outputs": [
    {
     "name": "stdout",
     "output_type": "stream",
     "text": [
      "64.234 Posts\n"
     ]
    }
   ],
   "source": []
  },
  {
   "cell_type": "code",
   "execution_count": 34,
   "metadata": {},
   "outputs": [
    {
     "data": {
      "text/plain": [
       "'64234'"
      ]
     },
     "execution_count": 34,
     "metadata": {},
     "output_type": "execute_result"
    }
   ],
   "source": []
  },
  {
   "cell_type": "code",
   "execution_count": null,
   "metadata": {},
   "outputs": [],
   "source": []
  }
 ],
 "metadata": {
  "kernelspec": {
   "display_name": "Python 3",
   "language": "python",
   "name": "python3"
  },
  "language_info": {
   "codemirror_mode": {
    "name": "ipython",
    "version": 3
   },
   "file_extension": ".py",
   "mimetype": "text/x-python",
   "name": "python",
   "nbconvert_exporter": "python",
   "pygments_lexer": "ipython3",
   "version": "3.7.1"
  }
 },
 "nbformat": 4,
 "nbformat_minor": 2
}
