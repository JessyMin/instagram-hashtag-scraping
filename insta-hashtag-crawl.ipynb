{
 "cells": [
  {
   "cell_type": "markdown",
   "metadata": {},
   "source": [
    "# BeautifulSoup으로 가져오기"
   ]
  },
  {
   "cell_type": "code",
   "execution_count": 2,
   "metadata": {},
   "outputs": [],
   "source": [
    "import requests\n",
    "from bs4 import BeautifulSoup\n",
    "import pandas as pd"
   ]
  },
  {
   "cell_type": "code",
   "execution_count": 3,
   "metadata": {},
   "outputs": [],
   "source": [
    "# 대상 태그를 넣으면 관련 태그를 스크랩하여 데이터프레임으로 변환\n",
    "def scrap_hashtag(keyword):\n",
    "\n",
    "    req = requests.get('http://picdeer.com/tag/' + keyword)\n",
    "    \n",
    "    # HTML 소스 가져오기\n",
    "    html = req.text\n",
    "    \n",
    "    # HTML 소스를 python 객체로 변환\n",
    "    soup = BeautifulSoup(html, 'html.parser')\n",
    "    \n",
    "    # 해시태그를 포함, 링크가 걸린 텍스트 모두 가져오기\n",
    "    raw_data = soup.select('a')\n",
    "    \n",
    "    # 데이터프레임으로 변환\n",
    "    data = []\n",
    "\n",
    "    for i in raw_data:\n",
    "        data.append(i.text)\n",
    "        \n",
    "    df = pd.DataFrame(data)\n",
    "    \n",
    "    df.columns = ['col']\n",
    "    \n",
    "    # 해시태그만 추출\n",
    "    df = df[df.col.str.contains(\"\\#\")]\n",
    "    \n",
    "    # 빈도순으로 정렬\n",
    "    rank = df['col'].value_counts().head(100)\n",
    "    \n",
    "    return(rank)\n",
    "    \n"
   ]
  },
  {
   "cell_type": "code",
   "execution_count": 123,
   "metadata": {},
   "outputs": [
    {
     "data": {
      "text/plain": [
       "#outdoorumbrella           53\n",
       "#outdoorfurniture          27\n",
       "#patio                     27\n",
       "#outdoordecor              26\n",
       "#patiodecor                26\n",
       "#patioumbrella             26\n",
       "#exteriordesign            24\n",
       "#homeandgarden             23\n",
       "#homedecor                 23\n",
       "#patiolife                 23\n",
       "#commercialdesign          23\n",
       "#commercialfurniture       23\n",
       "#midcenturymodern          21\n",
       "#colorful                  21\n",
       "#californiaumbrella        20\n",
       "#vintagestyle              19\n",
       "#furniture                 19\n",
       "#photoshoot                18\n",
       "#photography               18\n",
       "#loveyourshade             18\n",
       "#patiodesign               17\n",
       "#homedesign                16\n",
       "#home                      16\n",
       "#palmspringshomes          11\n",
       "#palmsprings               11\n",
       "#patiofurniture             9\n",
       "#outdoordesign              6\n",
       "#poolside                   5\n",
       "#semsiye                    5\n",
       "#summer                     4\n",
       "                           ..\n",
       "#beach                      2\n",
       "#outside                    2\n",
       "#sticksandstonesoutdoor     2\n",
       "#outdoorliving              2\n",
       "#anaokuludekorasyon         2\n",
       "#backyard                   2\n",
       "#cantilever                 2\n",
       "#thehomedepot               2\n",
       "#marketumbrellas            2\n",
       "#tailormadeparasol          2\n",
       "#beachfront                 2\n",
       "#americanclub               2\n",
       "#outdoor                    2\n",
       "#adelaide                   2\n",
       "#poolumbrella               2\n",
       "#southaustralia             2\n",
       "#americanclubsingapore      2\n",
       "#solmazkumaş                2\n",
       "#beachplease                2\n",
       "#otelsemsiye                2\n",
       "#dışmekanaksesuarları       2\n",
       "#dışmekanşemsiyeleri        2\n",
       "#patioideas                 2\n",
       "#outdoordiningset           2\n",
       "#fabricshowcase             2\n",
       "#sugeçirmezkumaş            2\n",
       "#butikotel                  2\n",
       "#sunumbrella                2\n",
       "#beachvibes                 2\n",
       "#shade7umbrellas            2\n",
       "Name: col, Length: 100, dtype: int64"
      ]
     },
     "execution_count": 123,
     "metadata": {},
     "output_type": "execute_result"
    }
   ],
   "source": [
    "scrap_hashtag('outdoorumbrella')\n"
   ]
  },
  {
   "cell_type": "code",
   "execution_count": 124,
   "metadata": {},
   "outputs": [
    {
     "data": {
      "text/plain": [
       "#californiaumbrella              57\n",
       "#outdoorfurniture                52\n",
       "#homedecor                       51\n",
       "#patiodecor                      51\n",
       "#outdoorumbrella                 51\n",
       "#outdoordecor                    51\n",
       "#patiolife                       51\n",
       "#patioumbrella                   51\n",
       "#homeandgarden                   51\n",
       "#patio                           50\n",
       "#commercialdesign                50\n",
       "#exteriordesign                  50\n",
       "#commercialfurniture             50\n",
       "#midcenturymodern                49\n",
       "#colorful                        45\n",
       "#vintagestyle                    43\n",
       "#photoshoot                      42\n",
       "#photography                     40\n",
       "#patiodesign                     27\n",
       "#furniture                       26\n",
       "#home                            26\n",
       "#loveyourshade                   26\n",
       "#homedesign                      26\n",
       "#palmsprings                     17\n",
       "#palmspringshomes                14\n",
       "#commercial                      10\n",
       "#neimanmarcus                     9\n",
       "#sunbrella                        5\n",
       "#behindthescenes                  5\n",
       "#patios                           5\n",
       "                                 ..\n",
       "#staple                           1\n",
       "#outdura                          1\n",
       "#poolside                         1\n",
       "#team                             1\n",
       "#holiday                          1\n",
       "#glenraven                        1\n",
       "#homefurniture                    1\n",
       "#springstyle                      1\n",
       "#productphotography               1\n",
       "#fabrics                          1\n",
       "#egghunt                          1\n",
       "#vintage                          1\n",
       "#casualliving                     1\n",
       "#californaumbrella                1\n",
       "#commercialproductphotography     1\n",
       "#mylife                           1\n",
       "#poolparty                        1\n",
       "#outdoordesign                    1\n",
       "#house                            1\n",
       "#shortgirlproblems                1\n",
       "#poolstore                        1\n",
       "#art                              1\n",
       "#booth                            1\n",
       "#mfaboston                        1\n",
       "#workfam                          1\n",
       "#fabric                           1\n",
       "#summersetcasual                  1\n",
       "#easterbunny                      1\n",
       "#beeggcellent                     1\n",
       "#pacificpoolsupply                1\n",
       "Name: col, Length: 99, dtype: int64"
      ]
     },
     "execution_count": 124,
     "metadata": {},
     "output_type": "execute_result"
    }
   ],
   "source": [
    "scrap_hashtag('californiaumbrella')\n"
   ]
  },
  {
   "cell_type": "code",
   "execution_count": 10,
   "metadata": {},
   "outputs": [
    {
     "data": {
      "text/plain": [
       "#글램핑           32\n",
       "#여행            15\n",
       "#좋아요           13\n",
       "#일상            12\n",
       "#팔로우           10\n",
       "#커플여행           9\n",
       "#친구             9\n",
       "#인스타그램          9\n",
       "#커플             9\n",
       "#가족여행           9\n",
       "#travel         8\n",
       "#캠핑             8\n",
       "#친절             8\n",
       "#가평글램핑          8\n",
       "#모닥불            8\n",
       "#힐링             5\n",
       "#소통             5\n",
       "#근로자의날          4\n",
       "#제부도            4\n",
       "#1박2일           3\n",
       "#럽스타그램          3\n",
       "#인친             3\n",
       "#여행스타그램         3\n",
       "#맞팔             3\n",
       "#캠핑장            2\n",
       "#instadaily     2\n",
       "#포천             2\n",
       "#노블제이           2\n",
       "#camping        2\n",
       "#인친환영           2\n",
       "               ..\n",
       "#밍스타그램          1\n",
       "#조카             1\n",
       "#텃밭             1\n",
       "#카페             1\n",
       "#딸딸맘            1\n",
       "#케빈하우스          1\n",
       "#장성             1\n",
       "#골드펫리조트         1\n",
       "#너무좋아요          1\n",
       "#캠핑의묘미          1\n",
       "#연휴             1\n",
       "#추억             1\n",
       "#취한다            1\n",
       "#용인             1\n",
       "#전대             1\n",
       "#경기도글램핑         1\n",
       "#노동당사           1\n",
       "#퇴근하고           1\n",
       "#수완지구           1\n",
       "#딸맘             1\n",
       "#지옥불퐈이어         1\n",
       "#반려견            1\n",
       "#京畿道            1\n",
       "#커플템            1\n",
       "#남해여행중5         1\n",
       "#고딩친구           1\n",
       "#넘좋당            1\n",
       "#리트리버           1\n",
       "#헬로호야일상그램       1\n",
       "#맛집여행           1\n",
       "Name: col, Length: 100, dtype: int64"
      ]
     },
     "execution_count": 10,
     "metadata": {},
     "output_type": "execute_result"
    }
   ],
   "source": [
    "scrap_hashtag('글램핑')\n"
   ]
  },
  {
   "cell_type": "markdown",
   "metadata": {},
   "source": [
    "# selenium으로 스크롤다운"
   ]
  },
  {
   "cell_type": "code",
   "execution_count": 11,
   "metadata": {},
   "outputs": [],
   "source": [
    "import time\n",
    "from selenium import webdriver\n",
    "\n",
    "\n",
    "# 페이지 스크롤링을 위한 모듈\n",
    "#from selenium.webdriver.common.keys import Keys\n",
    "\n",
    "# 다운로드 받은 드라이버 주소\n",
    "DRIVER_DIR = 'driver/chromedriver'\n",
    "\n",
    "# 크롬 브라우저를 실행시켜 조작하기 위한 객체 생성\n",
    "driver = webdriver.Chrome(DRIVER_DIR)\n",
    "\n",
    "# 암묵적으로 웹 자원을 (최대) 3초 기다리기\n",
    "driver.implicitly_wait(3) "
   ]
  },
  {
   "cell_type": "code",
   "execution_count": 12,
   "metadata": {},
   "outputs": [],
   "source": [
    "# 목표로 하는 url의 내용을 가져오기\n",
    "url = \"http://picdeer.com/tag/%ED%99%88%EA%B9%8C%ED%8E%98\"\n",
    "driver.get(url)"
   ]
  },
  {
   "cell_type": "code",
   "execution_count": 18,
   "metadata": {},
   "outputs": [],
   "source": [
    "# 끝까지 스크롤다운\n",
    "driver.execute_script(\"window.scrollTo(0, document.body.scrollHeight);\")"
   ]
  },
  {
   "cell_type": "code",
   "execution_count": 26,
   "metadata": {},
   "outputs": [],
   "source": [
    "# 참고 글 : https://l0o02.github.io/2018/06/13/selenium-with-beautifulsoup-1/\n",
    "\n",
    "# Web Driver가 현재 실행중인 웹사이트의 소스를 가져오기\n",
    "req = driver.page_source\n",
    "\n",
    "# HTML 소스를 python 객체로 변환\n",
    "soup = BeautifulSoup(req, 'html.parser')"
   ]
  },
  {
   "cell_type": "code",
   "execution_count": 27,
   "metadata": {},
   "outputs": [],
   "source": [
    "# 해시태그를 포함, 링크가 걸린 텍스트 모두 가져오기\n",
    "raw_data = soup.select('a')\n",
    "    \n",
    "# 데이터프레임으로 변환\n",
    "data = []\n",
    "\n",
    "for i in raw_data:\n",
    "    data.append(i.text)\n",
    "        \n",
    "\n",
    "    \n"
   ]
  },
  {
   "cell_type": "code",
   "execution_count": 34,
   "metadata": {},
   "outputs": [],
   "source": [
    "df = pd.DataFrame(data, columns=['col'])\n",
    "    \n",
    "    \n",
    "# 해시태그만 추출\n",
    "df = df[df['col'].str.contains(\"\\#\")]\n",
    "    \n",
    "# 빈도순으로 정렬\n",
    "rank = df['col'].value_counts().head(50)"
   ]
  },
  {
   "cell_type": "code",
   "execution_count": 35,
   "metadata": {},
   "outputs": [
    {
     "data": {
      "text/plain": [
       "#홈까페         182\n",
       "#집스타그램        37\n",
       "#맛스타그램        32\n",
       "#홈스타그램        30\n",
       "#주부스타그램       25\n",
       "#부부스타그램       24\n",
       "#쇼핑스타그램       24\n",
       "#젊줌마          24\n",
       "#인생사진         23\n",
       "#첫줄반사         23\n",
       "#주말스타그램       23\n",
       "#초딩맘          23\n",
       "#홈카페          23\n",
       "#프로필사진        23\n",
       "#주부그램         23\n",
       "#homecafe     21\n",
       "#일상           20\n",
       "#커피           19\n",
       "#온더테이블        19\n",
       "#육아소통         18\n",
       "#coffee       17\n",
       "#독박육아         16\n",
       "#등원룩          16\n",
       "#육아스타그램       16\n",
       "#먹스타그램        15\n",
       "#토당토당         13\n",
       "#홈베이킹         12\n",
       "#그릇스타그램       12\n",
       "#아메리카노        10\n",
       "#소통           10\n",
       "#브런치           9\n",
       "#커피스타그램        8\n",
       "#데일리           8\n",
       "#중딩맘           7\n",
       "#티타임           7\n",
       "#신혼그릇          7\n",
       "#홈바리스타         7\n",
       "#일상스타그램        7\n",
       "#예쁜그릇          7\n",
       "#홈쿡            7\n",
       "#온라인집들이        7\n",
       "#선물세트          7\n",
       "#홈인테리어         7\n",
       "#홈브런치          6\n",
       "#찻잔            6\n",
       "#디저트           6\n",
       "#daily         6\n",
       "#근로자의날         6\n",
       "#모드니본점         6\n",
       "#teatime       6\n",
       "Name: col, dtype: int64"
      ]
     },
     "execution_count": 35,
     "metadata": {},
     "output_type": "execute_result"
    }
   ],
   "source": [
    "rank"
   ]
  },
  {
   "cell_type": "code",
   "execution_count": null,
   "metadata": {},
   "outputs": [],
   "source": []
  }
 ],
 "metadata": {
  "kernelspec": {
   "display_name": "Python 3",
   "language": "python",
   "name": "python3"
  },
  "language_info": {
   "codemirror_mode": {
    "name": "ipython",
    "version": 3
   },
   "file_extension": ".py",
   "mimetype": "text/x-python",
   "name": "python",
   "nbconvert_exporter": "python",
   "pygments_lexer": "ipython3",
   "version": "3.7.1"
  }
 },
 "nbformat": 4,
 "nbformat_minor": 2
}
