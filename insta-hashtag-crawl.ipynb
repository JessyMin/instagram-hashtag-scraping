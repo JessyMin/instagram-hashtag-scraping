{
 "cells": [
  {
   "cell_type": "code",
   "execution_count": 3,
   "metadata": {},
   "outputs": [],
   "source": [
    "import time\n",
    "\n",
    "# 크롬 브라우저 조작을 위한 드라이버\n",
    "from selenium import webdriver\n",
    "\n",
    "# 페이지 스크롤링을 위한 모듈\n",
    "#from selenium.webdriver.common.keys import Keys\n",
    "\n",
    "# 다운로드 받은 드라이버 주소\n",
    "DRIVER_DIR = 'driver/chromedriver'"
   ]
  },
  {
   "cell_type": "code",
   "execution_count": 4,
   "metadata": {},
   "outputs": [],
   "source": [
    "# 드라이버를 이용해 크롬 브라우저를 실행시켜 조작하기 위해 설정 \n",
    "driver = webdriver.Chrome(DRIVER_DIR)\n",
    "\n",
    "# 암묵적으로 웹 자원을 (최대) 3초 기다리기\n",
    "driver.implicitly_wait(3) "
   ]
  },
  {
   "cell_type": "code",
   "execution_count": 6,
   "metadata": {},
   "outputs": [],
   "source": [
    "# 목표로 하는 url의 내용을 가져온다. \n",
    "url = \"http://picdeer.com/tag/outdoorumbrella\"\n",
    "driver.get(url)"
   ]
  },
  {
   "cell_type": "code",
   "execution_count": 11,
   "metadata": {},
   "outputs": [],
   "source": [
    "# 텍스트 가져오기\n",
    "item = driver.find_elements_by_css_selector('.grid-media-caption')\n",
    "\n",
    "\n"
   ]
  },
  {
   "cell_type": "markdown",
   "metadata": {},
   "source": [
    "# BeautifulSoup으로 가져오기"
   ]
  },
  {
   "cell_type": "code",
   "execution_count": 30,
   "metadata": {},
   "outputs": [],
   "source": [
    "import requests\n",
    "from bs4 import BeautifulSoup"
   ]
  },
  {
   "cell_type": "code",
   "execution_count": 88,
   "metadata": {},
   "outputs": [],
   "source": [
    "req = requests.get('http://picdeer.com/tag/outdoorumbrella')"
   ]
  },
  {
   "cell_type": "code",
   "execution_count": 89,
   "metadata": {},
   "outputs": [],
   "source": [
    "## HTML 소스 가져오기\n",
    "html = req.text"
   ]
  },
  {
   "cell_type": "code",
   "execution_count": 90,
   "metadata": {},
   "outputs": [],
   "source": [
    "# HTML 소스를 python 객체로 변환\n",
    "soup = BeautifulSoup(html, 'html.parser')"
   ]
  },
  {
   "cell_type": "code",
   "execution_count": 91,
   "metadata": {},
   "outputs": [],
   "source": [
    "list = soup.select('a')"
   ]
  },
  {
   "cell_type": "code",
   "execution_count": 38,
   "metadata": {},
   "outputs": [
    {
     "data": {
      "text/plain": [
       "<a href=\"http://picdeer.com/tag/outdoorfurniture\" title=\"posts tagged as outdoorfurniture\">#outdoorfurniture</a>"
      ]
     },
     "execution_count": 38,
     "metadata": {},
     "output_type": "execute_result"
    }
   ],
   "source": [
    "list[50]"
   ]
  },
  {
   "cell_type": "code",
   "execution_count": 92,
   "metadata": {},
   "outputs": [],
   "source": [
    "data = []\n",
    "\n",
    "for l in list:\n",
    "    data.append(l.text)\n",
    "    \n",
    "\n"
   ]
  },
  {
   "cell_type": "code",
   "execution_count": 93,
   "metadata": {},
   "outputs": [],
   "source": [
    "import pandas as pd\n",
    "\n",
    "df = pd.DataFrame(data)"
   ]
  },
  {
   "cell_type": "code",
   "execution_count": 94,
   "metadata": {},
   "outputs": [
    {
     "data": {
      "text/html": [
       "<div>\n",
       "<style scoped>\n",
       "    .dataframe tbody tr th:only-of-type {\n",
       "        vertical-align: middle;\n",
       "    }\n",
       "\n",
       "    .dataframe tbody tr th {\n",
       "        vertical-align: top;\n",
       "    }\n",
       "\n",
       "    .dataframe thead th {\n",
       "        text-align: right;\n",
       "    }\n",
       "</style>\n",
       "<table border=\"1\" class=\"dataframe\">\n",
       "  <thead>\n",
       "    <tr style=\"text-align: right;\">\n",
       "      <th></th>\n",
       "      <th>0</th>\n",
       "    </tr>\n",
       "  </thead>\n",
       "  <tbody>\n",
       "    <tr>\n",
       "      <th>0</th>\n",
       "      <td></td>\n",
       "    </tr>\n",
       "    <tr>\n",
       "      <th>1</th>\n",
       "      <td>Picdeer</td>\n",
       "    </tr>\n",
       "    <tr>\n",
       "      <th>2</th>\n",
       "      <td>Home</td>\n",
       "    </tr>\n",
       "    <tr>\n",
       "      <th>3</th>\n",
       "      <td>Popular</td>\n",
       "    </tr>\n",
       "    <tr>\n",
       "      <th>4</th>\n",
       "      <td>Popular Users</td>\n",
       "    </tr>\n",
       "    <tr>\n",
       "      <th>5</th>\n",
       "      <td>Popular Medias</td>\n",
       "    </tr>\n",
       "    <tr>\n",
       "      <th>6</th>\n",
       "      <td>Popular Tags</td>\n",
       "    </tr>\n",
       "    <tr>\n",
       "      <th>7</th>\n",
       "      <td>Search</td>\n",
       "    </tr>\n",
       "    <tr>\n",
       "      <th>8</th>\n",
       "      <td>Statistics</td>\n",
       "    </tr>\n",
       "    <tr>\n",
       "      <th>9</th>\n",
       "      <td>Who is not following me back</td>\n",
       "    </tr>\n",
       "  </tbody>\n",
       "</table>\n",
       "</div>"
      ],
      "text/plain": [
       "                               0\n",
       "0                               \n",
       "1                        Picdeer\n",
       "2                           Home\n",
       "3                       Popular \n",
       "4                  Popular Users\n",
       "5                 Popular Medias\n",
       "6                   Popular Tags\n",
       "7                         Search\n",
       "8                    Statistics \n",
       "9   Who is not following me back"
      ]
     },
     "execution_count": 94,
     "metadata": {},
     "output_type": "execute_result"
    }
   ],
   "source": [
    "df.head(10)"
   ]
  },
  {
   "cell_type": "code",
   "execution_count": 95,
   "metadata": {},
   "outputs": [],
   "source": [
    "df.columns = ['col']"
   ]
  },
  {
   "cell_type": "code",
   "execution_count": 85,
   "metadata": {},
   "outputs": [
    {
     "data": {
      "text/html": [
       "<div>\n",
       "<style scoped>\n",
       "    .dataframe tbody tr th:only-of-type {\n",
       "        vertical-align: middle;\n",
       "    }\n",
       "\n",
       "    .dataframe tbody tr th {\n",
       "        vertical-align: top;\n",
       "    }\n",
       "\n",
       "    .dataframe thead th {\n",
       "        text-align: right;\n",
       "    }\n",
       "</style>\n",
       "<table border=\"1\" class=\"dataframe\">\n",
       "  <thead>\n",
       "    <tr style=\"text-align: right;\">\n",
       "      <th></th>\n",
       "      <th>col</th>\n",
       "    </tr>\n",
       "  </thead>\n",
       "  <tbody>\n",
       "    <tr>\n",
       "      <th>0</th>\n",
       "      <td></td>\n",
       "    </tr>\n",
       "    <tr>\n",
       "      <th>1</th>\n",
       "      <td>Picdeer</td>\n",
       "    </tr>\n",
       "    <tr>\n",
       "      <th>2</th>\n",
       "      <td>Home</td>\n",
       "    </tr>\n",
       "    <tr>\n",
       "      <th>3</th>\n",
       "      <td>Popular</td>\n",
       "    </tr>\n",
       "    <tr>\n",
       "      <th>4</th>\n",
       "      <td>Popular Users</td>\n",
       "    </tr>\n",
       "  </tbody>\n",
       "</table>\n",
       "</div>"
      ],
      "text/plain": [
       "              col\n",
       "0                \n",
       "1         Picdeer\n",
       "2            Home\n",
       "3        Popular \n",
       "4   Popular Users"
      ]
     },
     "execution_count": 85,
     "metadata": {},
     "output_type": "execute_result"
    }
   ],
   "source": [
    "df.head()"
   ]
  },
  {
   "cell_type": "code",
   "execution_count": 96,
   "metadata": {},
   "outputs": [],
   "source": [
    "df = df[df.col.str.contains(\"\\#\")]"
   ]
  },
  {
   "cell_type": "code",
   "execution_count": 97,
   "metadata": {},
   "outputs": [
    {
     "data": {
      "text/plain": [
       "#outdoorumbrella         53\n",
       "#outdoorfurniture        27\n",
       "#patio                   27\n",
       "#outdoordecor            26\n",
       "#patiodecor              26\n",
       "#patioumbrella           26\n",
       "#exteriordesign          24\n",
       "#homeandgarden           23\n",
       "#homedecor               23\n",
       "#patiolife               23\n",
       "#commercialdesign        23\n",
       "#commercialfurniture     23\n",
       "#midcenturymodern        21\n",
       "#colorful                21\n",
       "#californiaumbrella      20\n",
       "#vintagestyle            19\n",
       "#furniture               19\n",
       "#photoshoot              18\n",
       "#photography             18\n",
       "#loveyourshade           18\n",
       "#patiodesign             17\n",
       "#homedesign              16\n",
       "#home                    16\n",
       "#palmspringshomes        11\n",
       "#palmsprings             11\n",
       "#patiofurniture           9\n",
       "#outdoordesign            6\n",
       "#poolside                 5\n",
       "#semsiye                  5\n",
       "#summer                   4\n",
       "                         ..\n",
       "#outdoorchairs            1\n",
       "#sofa                     1\n",
       "#oikos365professional     1\n",
       "#easterbunny              1\n",
       "#theeverygirl             1\n",
       "#tatil                    1\n",
       "#buyfurnitureonline       1\n",
       "#designerlife             1\n",
       "#egghunt                  1\n",
       "#furniturelovers          1\n",
       "#chaiselounge             1\n",
       "#fabhabitat               1\n",
       "#outdoorlife              1\n",
       "#springtime               1\n",
       "#turnkeydesign            1\n",
       "#summer2019               1\n",
       "#outdoordiningroom        1\n",
       "#event                    1\n",
       "#fabrics                  1\n",
       "#ajimgmcotai              1\n",
       "#bluesky                  1\n",
       "#sturdybags               1\n",
       "#capetown                 1\n",
       "#sugecirmezsemsiye        1\n",
       "#757supports757           1\n",
       "#florida                  1\n",
       "#colorfulrugs             1\n",
       "#homestaging              1\n",
       "#stylish                  1\n",
       "#artfurniture             1\n",
       "Name: col, Length: 316, dtype: int64"
      ]
     },
     "execution_count": 97,
     "metadata": {},
     "output_type": "execute_result"
    }
   ],
   "source": [
    "df.col.value_counts()"
   ]
  },
  {
   "cell_type": "code",
   "execution_count": null,
   "metadata": {},
   "outputs": [],
   "source": []
  },
  {
   "cell_type": "code",
   "execution_count": null,
   "metadata": {},
   "outputs": [],
   "source": []
  },
  {
   "cell_type": "code",
   "execution_count": null,
   "metadata": {},
   "outputs": [],
   "source": []
  }
 ],
 "metadata": {
  "kernelspec": {
   "display_name": "Python 3",
   "language": "python",
   "name": "python3"
  },
  "language_info": {
   "codemirror_mode": {
    "name": "ipython",
    "version": 3
   },
   "file_extension": ".py",
   "mimetype": "text/x-python",
   "name": "python",
   "nbconvert_exporter": "python",
   "pygments_lexer": "ipython3",
   "version": "3.7.1"
  }
 },
 "nbformat": 4,
 "nbformat_minor": 2
}
