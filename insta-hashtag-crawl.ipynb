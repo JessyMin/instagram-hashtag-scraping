{
 "cells": [
  {
   "cell_type": "markdown",
   "metadata": {},
   "source": [
    "# BeautifulSoup으로 가져오기"
   ]
  },
  {
   "cell_type": "code",
   "execution_count": 30,
   "metadata": {},
   "outputs": [],
   "source": [
    "import requests\n",
    "from bs4 import BeautifulSoup\n",
    "import pandas as pd"
   ]
  },
  {
   "cell_type": "code",
   "execution_count": 120,
   "metadata": {},
   "outputs": [],
   "source": [
    "# 대상 태그를 넣으면 관련 태그를 스크랩하여 데이터프레임으로 변환\n",
    "def scrap_hashtag(keyword):\n",
    "\n",
    "    req = requests.get('http://picdeer.com/tag/' + keyword)\n",
    "    \n",
    "    # HTML 소스 가져오기\n",
    "    html = req.text\n",
    "    \n",
    "    # HTML 소스를 python 객체로 변환\n",
    "    soup = BeautifulSoup(html, 'html.parser')\n",
    "    \n",
    "    # 해시태그를 포함, 링크가 걸린 텍스트 모두 가져오기\n",
    "    raw_data = soup.select('a')\n",
    "    \n",
    "    # 데이터프레임으로 변환\n",
    "    data = []\n",
    "\n",
    "    for i in raw_data:\n",
    "        data.append(i.text)\n",
    "        \n",
    "    df = pd.DataFrame(data)\n",
    "    \n",
    "    df.columns = ['col']\n",
    "    \n",
    "    # 해시태그만 추출\n",
    "    df = df[df.col.str.contains(\"\\#\")]\n",
    "    \n",
    "    # 빈도순으로 정렬\n",
    "    rank = df['col'].value_counts().head(100)\n",
    "    \n",
    "    return(rank)\n",
    "    \n"
   ]
  },
  {
   "cell_type": "code",
   "execution_count": 123,
   "metadata": {},
   "outputs": [
    {
     "data": {
      "text/plain": [
       "#outdoorumbrella           53\n",
       "#outdoorfurniture          27\n",
       "#patio                     27\n",
       "#outdoordecor              26\n",
       "#patiodecor                26\n",
       "#patioumbrella             26\n",
       "#exteriordesign            24\n",
       "#homeandgarden             23\n",
       "#homedecor                 23\n",
       "#patiolife                 23\n",
       "#commercialdesign          23\n",
       "#commercialfurniture       23\n",
       "#midcenturymodern          21\n",
       "#colorful                  21\n",
       "#californiaumbrella        20\n",
       "#vintagestyle              19\n",
       "#furniture                 19\n",
       "#photoshoot                18\n",
       "#photography               18\n",
       "#loveyourshade             18\n",
       "#patiodesign               17\n",
       "#homedesign                16\n",
       "#home                      16\n",
       "#palmspringshomes          11\n",
       "#palmsprings               11\n",
       "#patiofurniture             9\n",
       "#outdoordesign              6\n",
       "#poolside                   5\n",
       "#semsiye                    5\n",
       "#summer                     4\n",
       "                           ..\n",
       "#beach                      2\n",
       "#outside                    2\n",
       "#sticksandstonesoutdoor     2\n",
       "#outdoorliving              2\n",
       "#anaokuludekorasyon         2\n",
       "#backyard                   2\n",
       "#cantilever                 2\n",
       "#thehomedepot               2\n",
       "#marketumbrellas            2\n",
       "#tailormadeparasol          2\n",
       "#beachfront                 2\n",
       "#americanclub               2\n",
       "#outdoor                    2\n",
       "#adelaide                   2\n",
       "#poolumbrella               2\n",
       "#southaustralia             2\n",
       "#americanclubsingapore      2\n",
       "#solmazkumaş                2\n",
       "#beachplease                2\n",
       "#otelsemsiye                2\n",
       "#dışmekanaksesuarları       2\n",
       "#dışmekanşemsiyeleri        2\n",
       "#patioideas                 2\n",
       "#outdoordiningset           2\n",
       "#fabricshowcase             2\n",
       "#sugeçirmezkumaş            2\n",
       "#butikotel                  2\n",
       "#sunumbrella                2\n",
       "#beachvibes                 2\n",
       "#shade7umbrellas            2\n",
       "Name: col, Length: 100, dtype: int64"
      ]
     },
     "execution_count": 123,
     "metadata": {},
     "output_type": "execute_result"
    }
   ],
   "source": [
    "scrap_hashtag('outdoorumbrella')\n"
   ]
  },
  {
   "cell_type": "code",
   "execution_count": 124,
   "metadata": {},
   "outputs": [
    {
     "data": {
      "text/plain": [
       "#californiaumbrella              57\n",
       "#outdoorfurniture                52\n",
       "#homedecor                       51\n",
       "#patiodecor                      51\n",
       "#outdoorumbrella                 51\n",
       "#outdoordecor                    51\n",
       "#patiolife                       51\n",
       "#patioumbrella                   51\n",
       "#homeandgarden                   51\n",
       "#patio                           50\n",
       "#commercialdesign                50\n",
       "#exteriordesign                  50\n",
       "#commercialfurniture             50\n",
       "#midcenturymodern                49\n",
       "#colorful                        45\n",
       "#vintagestyle                    43\n",
       "#photoshoot                      42\n",
       "#photography                     40\n",
       "#patiodesign                     27\n",
       "#furniture                       26\n",
       "#home                            26\n",
       "#loveyourshade                   26\n",
       "#homedesign                      26\n",
       "#palmsprings                     17\n",
       "#palmspringshomes                14\n",
       "#commercial                      10\n",
       "#neimanmarcus                     9\n",
       "#sunbrella                        5\n",
       "#behindthescenes                  5\n",
       "#patios                           5\n",
       "                                 ..\n",
       "#staple                           1\n",
       "#outdura                          1\n",
       "#poolside                         1\n",
       "#team                             1\n",
       "#holiday                          1\n",
       "#glenraven                        1\n",
       "#homefurniture                    1\n",
       "#springstyle                      1\n",
       "#productphotography               1\n",
       "#fabrics                          1\n",
       "#egghunt                          1\n",
       "#vintage                          1\n",
       "#casualliving                     1\n",
       "#californaumbrella                1\n",
       "#commercialproductphotography     1\n",
       "#mylife                           1\n",
       "#poolparty                        1\n",
       "#outdoordesign                    1\n",
       "#house                            1\n",
       "#shortgirlproblems                1\n",
       "#poolstore                        1\n",
       "#art                              1\n",
       "#booth                            1\n",
       "#mfaboston                        1\n",
       "#workfam                          1\n",
       "#fabric                           1\n",
       "#summersetcasual                  1\n",
       "#easterbunny                      1\n",
       "#beeggcellent                     1\n",
       "#pacificpoolsupply                1\n",
       "Name: col, Length: 99, dtype: int64"
      ]
     },
     "execution_count": 124,
     "metadata": {},
     "output_type": "execute_result"
    }
   ],
   "source": [
    "scrap_hashtag('californiaumbrella')\n"
   ]
  },
  {
   "cell_type": "code",
   "execution_count": null,
   "metadata": {},
   "outputs": [],
   "source": []
  },
  {
   "cell_type": "code",
   "execution_count": null,
   "metadata": {},
   "outputs": [],
   "source": []
  },
  {
   "cell_type": "code",
   "execution_count": null,
   "metadata": {},
   "outputs": [],
   "source": []
  }
 ],
 "metadata": {
  "kernelspec": {
   "display_name": "Python 3",
   "language": "python",
   "name": "python3"
  },
  "language_info": {
   "codemirror_mode": {
    "name": "ipython",
    "version": 3
   },
   "file_extension": ".py",
   "mimetype": "text/x-python",
   "name": "python",
   "nbconvert_exporter": "python",
   "pygments_lexer": "ipython3",
   "version": "3.7.1"
  }
 },
 "nbformat": 4,
 "nbformat_minor": 2
}
